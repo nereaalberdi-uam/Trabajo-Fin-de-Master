{
 "cells": [
  {
   "cell_type": "code",
   "execution_count": 1,
   "id": "b56a5c96-50b5-476c-976c-1743f6b2a334",
   "metadata": {},
   "outputs": [],
   "source": [
    "from sklearn.model_selection import StratifiedKFold\n",
    "import pandas as pd\n",
    "import joblib "
   ]
  },
  {
   "cell_type": "code",
   "execution_count": 2,
   "id": "cca1fc6e-297b-4dde-9c2e-e5f9cc901b64",
   "metadata": {},
   "outputs": [],
   "source": [
    "df = pd.read_csv('processed_ctg_results.csv')\n",
    "X = df.drop(columns=['record_name', 'target'])\n",
    "y = df['target']"
   ]
  },
  {
   "cell_type": "code",
   "execution_count": 3,
   "id": "f0985104-1c88-4bce-9d79-95ca6c85d94f",
   "metadata": {},
   "outputs": [
    {
     "data": {
      "text/plain": [
       "['outer_splits.pkl']"
      ]
     },
     "execution_count": 3,
     "metadata": {},
     "output_type": "execute_result"
    }
   ],
   "source": [
    "all_outer_splits = []\n",
    "\n",
    "for i in range(10):\n",
    "    outer_cv = StratifiedKFold(n_splits=5, shuffle=True, random_state=i)  # Different seed each time\n",
    "    outer_splits = list(outer_cv.split(X, y))\n",
    "    all_outer_splits.append(outer_splits)\n",
    "\n",
    "\n",
    "# Save the list of 10 outer splits\n",
    "joblib.dump(all_outer_splits, 'outer_splits.pkl')"
   ]
  }
 ],
 "metadata": {
  "kernelspec": {
   "display_name": "Python (tf-env)",
   "language": "python",
   "name": "tf-env"
  },
  "language_info": {
   "codemirror_mode": {
    "name": "ipython",
    "version": 3
   },
   "file_extension": ".py",
   "mimetype": "text/x-python",
   "name": "python",
   "nbconvert_exporter": "python",
   "pygments_lexer": "ipython3",
   "version": "3.9.15"
  }
 },
 "nbformat": 4,
 "nbformat_minor": 5
}
