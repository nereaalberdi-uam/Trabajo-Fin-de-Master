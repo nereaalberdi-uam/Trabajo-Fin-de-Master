{
 "cells": [
  {
   "cell_type": "code",
   "execution_count": 1,
   "id": "45dc5d00-ab11-4894-b268-5e599048ded3",
   "metadata": {},
   "outputs": [],
   "source": [
    "import numpy as np\n",
    "import pandas as pd\n",
    "import warnings\n",
    "import matplotlib.pyplot as plt\n",
    "from sklearn.exceptions import DataConversionWarning\n",
    "from sklearn.model_selection import StratifiedKFold\n",
    "from sklearn.metrics import (\n",
    "    accuracy_score, recall_score, f1_score, matthews_corrcoef,\n",
    "    balanced_accuracy_score, precision_recall_curve, auc\n",
    ")\n",
    "from imblearn.metrics import geometric_mean_score\n",
    "from sklearn.utils import class_weight\n",
    "from tensorflow.keras.models import Sequential\n",
    "from tensorflow.keras.layers import Dense, Dropout, Input\n",
    "from tensorflow.keras.callbacks import Callback\n",
    "\n",
    "import pandas as pd\n",
    "import sklearn as sklearn\n",
    "from sklearn.model_selection import StratifiedKFold, GridSearchCV\n",
    "from sklearn.pipeline import Pipeline\n",
    "from sklearn.preprocessing import StandardScaler\n",
    "from sklearn.ensemble import RandomForestClassifier\n",
    "from sklearn.svm import SVC\n",
    "from sklearn.linear_model import LogisticRegression\n",
    "from sklearn.metrics import (\n",
    "    accuracy_score, recall_score, f1_score, precision_recall_curve, \n",
    "    auc, matthews_corrcoef, balanced_accuracy_score\n",
    ")\n",
    "from imblearn.metrics import geometric_mean_score\n",
    "import joblib \n",
    "import tensorflow as tf\n",
    "\n",
    "import matplotlib.pyplot as plt\n",
    "from sklearn.model_selection import train_test_split\n",
    "from sklearn.utils import class_weight\n",
    "import json\n",
    "import os"
   ]
  },
  {
   "cell_type": "code",
   "execution_count": 2,
   "id": "af5d31fe-e2b0-42e9-bc44-3cb8e8a7008a",
   "metadata": {},
   "outputs": [],
   "source": [
    "def create_nn(input_dim, neurons=64, dropout=0.2, activation='relu', optimizer='adam'):\n",
    "\n",
    "    model = Sequential([\n",
    "        Input(shape=(input_dim,)),\n",
    "        Dense(neurons, activation=activation),\n",
    "        Dropout(dropout),\n",
    "        Dense(neurons, activation=activation),\n",
    "        Dropout(dropout),\n",
    "        Dense(neurons, activation=activation),\n",
    "        Dropout(dropout),\n",
    "        Dense(1, activation='sigmoid')\n",
    "    ])\n",
    "    model.compile(optimizer=optimizer, loss='binary_crossentropy')\n",
    "    return model\n"
   ]
  },
  {
   "cell_type": "code",
   "execution_count": 3,
   "id": "ebbfb181-7cf6-4962-ba70-40990bd21844",
   "metadata": {},
   "outputs": [],
   "source": [
    "class BalancedAccuracyCallback(Callback):\n",
    "    def __init__(self, X_train, y_train, X_val, y_val):\n",
    "        self.X_train = X_train\n",
    "        self.y_train = y_train\n",
    "        self.X_val = X_val\n",
    "        self.y_val = y_val\n",
    "        self.train_bal_acc_per_epoch = []\n",
    "        self.val_bal_acc_per_epoch = []\n",
    "\n",
    "    def on_epoch_end(self, epoch, logs=None):\n",
    "        y_train_pred = (self.model.predict(self.X_train, verbose=0) > 0.5).astype(int)\n",
    "        y_val_pred = (self.model.predict(self.X_val, verbose=0) > 0.5).astype(int)\n",
    "        self.train_bal_acc_per_epoch.append(balanced_accuracy_score(self.y_train, y_train_pred))\n",
    "        self.val_bal_acc_per_epoch.append(balanced_accuracy_score(self.y_val, y_val_pred))\n"
   ]
  },
  {
   "cell_type": "code",
   "execution_count": 4,
   "id": "737c300e-ef10-4e98-ba40-33c5f8ee2884",
   "metadata": {},
   "outputs": [],
   "source": [
    "def run_grid_search(X_train, y_train, X_val, y_val, param_grid, input_dim):\n",
    "\n",
    "    class_weights = class_weight.compute_class_weight(\n",
    "        class_weight='balanced',\n",
    "        classes=np.unique(y_train),\n",
    "        y=y_train\n",
    "    )\n",
    "    class_weights_dict = dict(enumerate(class_weights))\n",
    "\n",
    "    best_score = -np.inf\n",
    "    best_model = None\n",
    "    best_callback = None\n",
    "    best_params = None\n",
    "\n",
    "    for optimizer in param_grid['optimizer']:\n",
    "        for neurons in param_grid['neurons']:\n",
    "            for dropout in param_grid['dropout']:\n",
    "                for activation in param_grid['activation']:\n",
    "                    for batch_size in param_grid['batch_size']:\n",
    "                        model = create_nn(input_dim, neurons, dropout, activation, optimizer)\n",
    "                        callback = BalancedAccuracyCallback(X_train, y_train, X_val, y_val)\n",
    "                        model.fit(\n",
    "                            X_train, y_train,\n",
    "                            batch_size=batch_size,\n",
    "                            epochs=param_grid['epochs'][0],\n",
    "                            verbose=0,\n",
    "                            callbacks=[callback],\n",
    "                            class_weight=class_weights_dict\n",
    "                        )\n",
    "\n",
    "                        y_pred = (model.predict(X_val, verbose=0) > 0.5).astype(int)\n",
    "                        bal_acc = balanced_accuracy_score(y_val, y_pred)\n",
    "\n",
    "                        if bal_acc > best_score:\n",
    "                            best_score = bal_acc\n",
    "                            best_model = model\n",
    "                            best_callback = callback\n",
    "                            best_params = {\n",
    "                                'optimizer': optimizer,\n",
    "                                'neurons': neurons,\n",
    "                                'dropout': dropout,\n",
    "                                'activation': activation,\n",
    "                                'batch_size': batch_size\n",
    "                            }\n",
    "\n",
    "    return best_model, best_callback, best_params\n"
   ]
  },
  {
   "cell_type": "code",
   "execution_count": 5,
   "id": "eafc6aa6-235d-4a73-b6aa-6d71a0ccd6d3",
   "metadata": {},
   "outputs": [],
   "source": [
    "def run_nested_cv(X, y, outer_cv, split_number=1, model_name=\"NeuralNet\", param_grid=None):\n",
    "\n",
    "    if param_grid is None:\n",
    "        param_grid = {\n",
    "            'optimizer': ['adam'],\n",
    "            'neurons': [128, 256],\n",
    "            'dropout': [0.2, 0.4],\n",
    "            'activation': ['relu'],\n",
    "            'batch_size': [16, 32],\n",
    "            'epochs': [120]\n",
    "        }\n",
    "\n",
    "    model_dir = \"saved_nn_models\"\n",
    "    os.makedirs(model_dir, exist_ok=True)\n",
    "    results = []\n",
    "    X_np = X.values if isinstance(X, pd.DataFrame) else X\n",
    "    y_np = y.values.ravel() if isinstance(y, pd.DataFrame) else y\n",
    "\n",
    "    for fold_idx, (train_idx, test_idx) in enumerate(outer_cv, start=1):\n",
    "        X_train, X_test = X_np[train_idx], X_np[test_idx]\n",
    "        y_train, y_test = y_np[train_idx], y_np[test_idx]\n",
    "\n",
    "        model, callback, best_params = run_grid_search(\n",
    "            X_train, y_train, X_test, y_test, param_grid, input_dim=X_np.shape[1]\n",
    "        )\n",
    "\n",
    "        # Save model\n",
    "        model_filename = f\"nn_split{split_number}_fold{fold_idx}.keras\"\n",
    "        model_path = os.path.join(model_dir, model_filename)\n",
    "        model.save(model_path)\n",
    "\n",
    "        # Evaluate\n",
    "        y_pred = (model.predict(X_test, verbose=0) > 0.5).astype(int)\n",
    "        y_proba = model.predict(X_test, verbose=0)\n",
    "        precision, recall, _ = precision_recall_curve(y_test, y_proba)\n",
    "        pr_auc = auc(recall, precision)\n",
    "\n",
    "        results.append({\n",
    "            'split': split_number,\n",
    "            'fold': fold_idx,\n",
    "            'model': model_name,\n",
    "            'best_params': json.dumps(best_params),\n",
    "            'accuracy': accuracy_score(y_test, y_pred),\n",
    "            'recall': recall_score(y_test, y_pred),\n",
    "            'f1_score': f1_score(y_test, y_pred),\n",
    "            'mcc': matthews_corrcoef(y_test, y_pred),\n",
    "            'balanced_accuracy': balanced_accuracy_score(y_test, y_pred),\n",
    "            'g_mean': geometric_mean_score(y_test, y_pred),\n",
    "            'pr_auc': pr_auc\n",
    "        })\n",
    "\n",
    "    return pd.DataFrame(results)\n"
   ]
  },
  {
   "cell_type": "code",
   "execution_count": 6,
   "id": "5b70dc2c-88bf-4533-abf8-c765e15b5095",
   "metadata": {},
   "outputs": [],
   "source": [
    "# Load dataset\n",
    "df = pd.read_csv('processed_ctg_results.csv')\n",
    "X = df[['LTV', 'baseline', 'std_FHR']]\n",
    "y = df['target']\n",
    "\n",
    "# Load saved outer splits\n",
    "all_outer_splits = joblib.load('outer_splits.pkl')"
   ]
  },
  {
   "cell_type": "code",
   "execution_count": 7,
   "id": "3e18ded6-1f5c-4e44-b17a-90cbb810a7b0",
   "metadata": {},
   "outputs": [
    {
     "name": "stdout",
     "output_type": "stream",
     "text": [
      "Running split 1...\n"
     ]
    },
    {
     "name": "stderr",
     "output_type": "stream",
     "text": [
      "C:\\Users\\nerea\\anaconda3\\envs\\tf-env\\lib\\site-packages\\sklearn\\preprocessing\\_label.py:129: DataConversionWarning: A column-vector y was passed when a 1d array was expected. Please change the shape of y to (n_samples, ), for example using ravel().\n",
      "  y = column_or_1d(y, dtype=self.classes_.dtype, warn=True)\n",
      "C:\\Users\\nerea\\anaconda3\\envs\\tf-env\\lib\\site-packages\\sklearn\\preprocessing\\_label.py:129: DataConversionWarning: A column-vector y was passed when a 1d array was expected. Please change the shape of y to (n_samples, ), for example using ravel().\n",
      "  y = column_or_1d(y, dtype=self.classes_.dtype, warn=True)\n",
      "C:\\Users\\nerea\\anaconda3\\envs\\tf-env\\lib\\site-packages\\sklearn\\preprocessing\\_label.py:129: DataConversionWarning: A column-vector y was passed when a 1d array was expected. Please change the shape of y to (n_samples, ), for example using ravel().\n",
      "  y = column_or_1d(y, dtype=self.classes_.dtype, warn=True)\n",
      "C:\\Users\\nerea\\anaconda3\\envs\\tf-env\\lib\\site-packages\\sklearn\\preprocessing\\_label.py:129: DataConversionWarning: A column-vector y was passed when a 1d array was expected. Please change the shape of y to (n_samples, ), for example using ravel().\n",
      "  y = column_or_1d(y, dtype=self.classes_.dtype, warn=True)\n",
      "C:\\Users\\nerea\\anaconda3\\envs\\tf-env\\lib\\site-packages\\sklearn\\preprocessing\\_label.py:129: DataConversionWarning: A column-vector y was passed when a 1d array was expected. Please change the shape of y to (n_samples, ), for example using ravel().\n",
      "  y = column_or_1d(y, dtype=self.classes_.dtype, warn=True)\n"
     ]
    },
    {
     "name": "stdout",
     "output_type": "stream",
     "text": [
      "Running split 2...\n"
     ]
    },
    {
     "name": "stderr",
     "output_type": "stream",
     "text": [
      "C:\\Users\\nerea\\anaconda3\\envs\\tf-env\\lib\\site-packages\\sklearn\\preprocessing\\_label.py:129: DataConversionWarning: A column-vector y was passed when a 1d array was expected. Please change the shape of y to (n_samples, ), for example using ravel().\n",
      "  y = column_or_1d(y, dtype=self.classes_.dtype, warn=True)\n",
      "C:\\Users\\nerea\\anaconda3\\envs\\tf-env\\lib\\site-packages\\sklearn\\preprocessing\\_label.py:129: DataConversionWarning: A column-vector y was passed when a 1d array was expected. Please change the shape of y to (n_samples, ), for example using ravel().\n",
      "  y = column_or_1d(y, dtype=self.classes_.dtype, warn=True)\n",
      "C:\\Users\\nerea\\anaconda3\\envs\\tf-env\\lib\\site-packages\\sklearn\\preprocessing\\_label.py:129: DataConversionWarning: A column-vector y was passed when a 1d array was expected. Please change the shape of y to (n_samples, ), for example using ravel().\n",
      "  y = column_or_1d(y, dtype=self.classes_.dtype, warn=True)\n",
      "C:\\Users\\nerea\\anaconda3\\envs\\tf-env\\lib\\site-packages\\sklearn\\preprocessing\\_label.py:129: DataConversionWarning: A column-vector y was passed when a 1d array was expected. Please change the shape of y to (n_samples, ), for example using ravel().\n",
      "  y = column_or_1d(y, dtype=self.classes_.dtype, warn=True)\n",
      "C:\\Users\\nerea\\anaconda3\\envs\\tf-env\\lib\\site-packages\\sklearn\\preprocessing\\_label.py:129: DataConversionWarning: A column-vector y was passed when a 1d array was expected. Please change the shape of y to (n_samples, ), for example using ravel().\n",
      "  y = column_or_1d(y, dtype=self.classes_.dtype, warn=True)\n"
     ]
    },
    {
     "name": "stdout",
     "output_type": "stream",
     "text": [
      "Running split 3...\n"
     ]
    },
    {
     "name": "stderr",
     "output_type": "stream",
     "text": [
      "C:\\Users\\nerea\\anaconda3\\envs\\tf-env\\lib\\site-packages\\sklearn\\preprocessing\\_label.py:129: DataConversionWarning: A column-vector y was passed when a 1d array was expected. Please change the shape of y to (n_samples, ), for example using ravel().\n",
      "  y = column_or_1d(y, dtype=self.classes_.dtype, warn=True)\n",
      "C:\\Users\\nerea\\anaconda3\\envs\\tf-env\\lib\\site-packages\\sklearn\\preprocessing\\_label.py:129: DataConversionWarning: A column-vector y was passed when a 1d array was expected. Please change the shape of y to (n_samples, ), for example using ravel().\n",
      "  y = column_or_1d(y, dtype=self.classes_.dtype, warn=True)\n",
      "C:\\Users\\nerea\\anaconda3\\envs\\tf-env\\lib\\site-packages\\sklearn\\preprocessing\\_label.py:129: DataConversionWarning: A column-vector y was passed when a 1d array was expected. Please change the shape of y to (n_samples, ), for example using ravel().\n",
      "  y = column_or_1d(y, dtype=self.classes_.dtype, warn=True)\n",
      "C:\\Users\\nerea\\anaconda3\\envs\\tf-env\\lib\\site-packages\\sklearn\\preprocessing\\_label.py:129: DataConversionWarning: A column-vector y was passed when a 1d array was expected. Please change the shape of y to (n_samples, ), for example using ravel().\n",
      "  y = column_or_1d(y, dtype=self.classes_.dtype, warn=True)\n",
      "C:\\Users\\nerea\\anaconda3\\envs\\tf-env\\lib\\site-packages\\sklearn\\preprocessing\\_label.py:129: DataConversionWarning: A column-vector y was passed when a 1d array was expected. Please change the shape of y to (n_samples, ), for example using ravel().\n",
      "  y = column_or_1d(y, dtype=self.classes_.dtype, warn=True)\n"
     ]
    },
    {
     "name": "stdout",
     "output_type": "stream",
     "text": [
      "Running split 4...\n"
     ]
    },
    {
     "name": "stderr",
     "output_type": "stream",
     "text": [
      "C:\\Users\\nerea\\anaconda3\\envs\\tf-env\\lib\\site-packages\\sklearn\\preprocessing\\_label.py:129: DataConversionWarning: A column-vector y was passed when a 1d array was expected. Please change the shape of y to (n_samples, ), for example using ravel().\n",
      "  y = column_or_1d(y, dtype=self.classes_.dtype, warn=True)\n",
      "C:\\Users\\nerea\\anaconda3\\envs\\tf-env\\lib\\site-packages\\sklearn\\preprocessing\\_label.py:129: DataConversionWarning: A column-vector y was passed when a 1d array was expected. Please change the shape of y to (n_samples, ), for example using ravel().\n",
      "  y = column_or_1d(y, dtype=self.classes_.dtype, warn=True)\n",
      "C:\\Users\\nerea\\anaconda3\\envs\\tf-env\\lib\\site-packages\\sklearn\\preprocessing\\_label.py:129: DataConversionWarning: A column-vector y was passed when a 1d array was expected. Please change the shape of y to (n_samples, ), for example using ravel().\n",
      "  y = column_or_1d(y, dtype=self.classes_.dtype, warn=True)\n",
      "C:\\Users\\nerea\\anaconda3\\envs\\tf-env\\lib\\site-packages\\sklearn\\preprocessing\\_label.py:129: DataConversionWarning: A column-vector y was passed when a 1d array was expected. Please change the shape of y to (n_samples, ), for example using ravel().\n",
      "  y = column_or_1d(y, dtype=self.classes_.dtype, warn=True)\n",
      "C:\\Users\\nerea\\anaconda3\\envs\\tf-env\\lib\\site-packages\\sklearn\\preprocessing\\_label.py:129: DataConversionWarning: A column-vector y was passed when a 1d array was expected. Please change the shape of y to (n_samples, ), for example using ravel().\n",
      "  y = column_or_1d(y, dtype=self.classes_.dtype, warn=True)\n"
     ]
    },
    {
     "name": "stdout",
     "output_type": "stream",
     "text": [
      "Running split 5...\n"
     ]
    },
    {
     "name": "stderr",
     "output_type": "stream",
     "text": [
      "C:\\Users\\nerea\\anaconda3\\envs\\tf-env\\lib\\site-packages\\sklearn\\preprocessing\\_label.py:129: DataConversionWarning: A column-vector y was passed when a 1d array was expected. Please change the shape of y to (n_samples, ), for example using ravel().\n",
      "  y = column_or_1d(y, dtype=self.classes_.dtype, warn=True)\n",
      "C:\\Users\\nerea\\anaconda3\\envs\\tf-env\\lib\\site-packages\\sklearn\\preprocessing\\_label.py:129: DataConversionWarning: A column-vector y was passed when a 1d array was expected. Please change the shape of y to (n_samples, ), for example using ravel().\n",
      "  y = column_or_1d(y, dtype=self.classes_.dtype, warn=True)\n",
      "C:\\Users\\nerea\\anaconda3\\envs\\tf-env\\lib\\site-packages\\sklearn\\preprocessing\\_label.py:129: DataConversionWarning: A column-vector y was passed when a 1d array was expected. Please change the shape of y to (n_samples, ), for example using ravel().\n",
      "  y = column_or_1d(y, dtype=self.classes_.dtype, warn=True)\n",
      "C:\\Users\\nerea\\anaconda3\\envs\\tf-env\\lib\\site-packages\\sklearn\\preprocessing\\_label.py:129: DataConversionWarning: A column-vector y was passed when a 1d array was expected. Please change the shape of y to (n_samples, ), for example using ravel().\n",
      "  y = column_or_1d(y, dtype=self.classes_.dtype, warn=True)\n",
      "C:\\Users\\nerea\\anaconda3\\envs\\tf-env\\lib\\site-packages\\sklearn\\preprocessing\\_label.py:129: DataConversionWarning: A column-vector y was passed when a 1d array was expected. Please change the shape of y to (n_samples, ), for example using ravel().\n",
      "  y = column_or_1d(y, dtype=self.classes_.dtype, warn=True)\n"
     ]
    },
    {
     "name": "stdout",
     "output_type": "stream",
     "text": [
      "Running split 6...\n"
     ]
    },
    {
     "name": "stderr",
     "output_type": "stream",
     "text": [
      "C:\\Users\\nerea\\anaconda3\\envs\\tf-env\\lib\\site-packages\\sklearn\\preprocessing\\_label.py:129: DataConversionWarning: A column-vector y was passed when a 1d array was expected. Please change the shape of y to (n_samples, ), for example using ravel().\n",
      "  y = column_or_1d(y, dtype=self.classes_.dtype, warn=True)\n",
      "C:\\Users\\nerea\\anaconda3\\envs\\tf-env\\lib\\site-packages\\sklearn\\preprocessing\\_label.py:129: DataConversionWarning: A column-vector y was passed when a 1d array was expected. Please change the shape of y to (n_samples, ), for example using ravel().\n",
      "  y = column_or_1d(y, dtype=self.classes_.dtype, warn=True)\n",
      "C:\\Users\\nerea\\anaconda3\\envs\\tf-env\\lib\\site-packages\\sklearn\\preprocessing\\_label.py:129: DataConversionWarning: A column-vector y was passed when a 1d array was expected. Please change the shape of y to (n_samples, ), for example using ravel().\n",
      "  y = column_or_1d(y, dtype=self.classes_.dtype, warn=True)\n",
      "C:\\Users\\nerea\\anaconda3\\envs\\tf-env\\lib\\site-packages\\sklearn\\preprocessing\\_label.py:129: DataConversionWarning: A column-vector y was passed when a 1d array was expected. Please change the shape of y to (n_samples, ), for example using ravel().\n",
      "  y = column_or_1d(y, dtype=self.classes_.dtype, warn=True)\n",
      "C:\\Users\\nerea\\anaconda3\\envs\\tf-env\\lib\\site-packages\\sklearn\\preprocessing\\_label.py:129: DataConversionWarning: A column-vector y was passed when a 1d array was expected. Please change the shape of y to (n_samples, ), for example using ravel().\n",
      "  y = column_or_1d(y, dtype=self.classes_.dtype, warn=True)\n"
     ]
    },
    {
     "name": "stdout",
     "output_type": "stream",
     "text": [
      "Running split 7...\n"
     ]
    },
    {
     "name": "stderr",
     "output_type": "stream",
     "text": [
      "C:\\Users\\nerea\\anaconda3\\envs\\tf-env\\lib\\site-packages\\sklearn\\preprocessing\\_label.py:129: DataConversionWarning: A column-vector y was passed when a 1d array was expected. Please change the shape of y to (n_samples, ), for example using ravel().\n",
      "  y = column_or_1d(y, dtype=self.classes_.dtype, warn=True)\n",
      "C:\\Users\\nerea\\anaconda3\\envs\\tf-env\\lib\\site-packages\\sklearn\\preprocessing\\_label.py:129: DataConversionWarning: A column-vector y was passed when a 1d array was expected. Please change the shape of y to (n_samples, ), for example using ravel().\n",
      "  y = column_or_1d(y, dtype=self.classes_.dtype, warn=True)\n",
      "C:\\Users\\nerea\\anaconda3\\envs\\tf-env\\lib\\site-packages\\sklearn\\preprocessing\\_label.py:129: DataConversionWarning: A column-vector y was passed when a 1d array was expected. Please change the shape of y to (n_samples, ), for example using ravel().\n",
      "  y = column_or_1d(y, dtype=self.classes_.dtype, warn=True)\n",
      "C:\\Users\\nerea\\anaconda3\\envs\\tf-env\\lib\\site-packages\\sklearn\\preprocessing\\_label.py:129: DataConversionWarning: A column-vector y was passed when a 1d array was expected. Please change the shape of y to (n_samples, ), for example using ravel().\n",
      "  y = column_or_1d(y, dtype=self.classes_.dtype, warn=True)\n",
      "C:\\Users\\nerea\\anaconda3\\envs\\tf-env\\lib\\site-packages\\sklearn\\preprocessing\\_label.py:129: DataConversionWarning: A column-vector y was passed when a 1d array was expected. Please change the shape of y to (n_samples, ), for example using ravel().\n",
      "  y = column_or_1d(y, dtype=self.classes_.dtype, warn=True)\n"
     ]
    },
    {
     "name": "stdout",
     "output_type": "stream",
     "text": [
      "Running split 8...\n"
     ]
    },
    {
     "name": "stderr",
     "output_type": "stream",
     "text": [
      "C:\\Users\\nerea\\anaconda3\\envs\\tf-env\\lib\\site-packages\\sklearn\\preprocessing\\_label.py:129: DataConversionWarning: A column-vector y was passed when a 1d array was expected. Please change the shape of y to (n_samples, ), for example using ravel().\n",
      "  y = column_or_1d(y, dtype=self.classes_.dtype, warn=True)\n",
      "C:\\Users\\nerea\\anaconda3\\envs\\tf-env\\lib\\site-packages\\sklearn\\preprocessing\\_label.py:129: DataConversionWarning: A column-vector y was passed when a 1d array was expected. Please change the shape of y to (n_samples, ), for example using ravel().\n",
      "  y = column_or_1d(y, dtype=self.classes_.dtype, warn=True)\n",
      "C:\\Users\\nerea\\anaconda3\\envs\\tf-env\\lib\\site-packages\\sklearn\\preprocessing\\_label.py:129: DataConversionWarning: A column-vector y was passed when a 1d array was expected. Please change the shape of y to (n_samples, ), for example using ravel().\n",
      "  y = column_or_1d(y, dtype=self.classes_.dtype, warn=True)\n",
      "C:\\Users\\nerea\\anaconda3\\envs\\tf-env\\lib\\site-packages\\sklearn\\preprocessing\\_label.py:129: DataConversionWarning: A column-vector y was passed when a 1d array was expected. Please change the shape of y to (n_samples, ), for example using ravel().\n",
      "  y = column_or_1d(y, dtype=self.classes_.dtype, warn=True)\n",
      "C:\\Users\\nerea\\anaconda3\\envs\\tf-env\\lib\\site-packages\\sklearn\\preprocessing\\_label.py:129: DataConversionWarning: A column-vector y was passed when a 1d array was expected. Please change the shape of y to (n_samples, ), for example using ravel().\n",
      "  y = column_or_1d(y, dtype=self.classes_.dtype, warn=True)\n"
     ]
    },
    {
     "name": "stdout",
     "output_type": "stream",
     "text": [
      "Running split 9...\n"
     ]
    },
    {
     "name": "stderr",
     "output_type": "stream",
     "text": [
      "C:\\Users\\nerea\\anaconda3\\envs\\tf-env\\lib\\site-packages\\sklearn\\preprocessing\\_label.py:129: DataConversionWarning: A column-vector y was passed when a 1d array was expected. Please change the shape of y to (n_samples, ), for example using ravel().\n",
      "  y = column_or_1d(y, dtype=self.classes_.dtype, warn=True)\n",
      "C:\\Users\\nerea\\anaconda3\\envs\\tf-env\\lib\\site-packages\\sklearn\\preprocessing\\_label.py:129: DataConversionWarning: A column-vector y was passed when a 1d array was expected. Please change the shape of y to (n_samples, ), for example using ravel().\n",
      "  y = column_or_1d(y, dtype=self.classes_.dtype, warn=True)\n",
      "C:\\Users\\nerea\\anaconda3\\envs\\tf-env\\lib\\site-packages\\sklearn\\preprocessing\\_label.py:129: DataConversionWarning: A column-vector y was passed when a 1d array was expected. Please change the shape of y to (n_samples, ), for example using ravel().\n",
      "  y = column_or_1d(y, dtype=self.classes_.dtype, warn=True)\n",
      "C:\\Users\\nerea\\anaconda3\\envs\\tf-env\\lib\\site-packages\\sklearn\\preprocessing\\_label.py:129: DataConversionWarning: A column-vector y was passed when a 1d array was expected. Please change the shape of y to (n_samples, ), for example using ravel().\n",
      "  y = column_or_1d(y, dtype=self.classes_.dtype, warn=True)\n",
      "C:\\Users\\nerea\\anaconda3\\envs\\tf-env\\lib\\site-packages\\sklearn\\preprocessing\\_label.py:129: DataConversionWarning: A column-vector y was passed when a 1d array was expected. Please change the shape of y to (n_samples, ), for example using ravel().\n",
      "  y = column_or_1d(y, dtype=self.classes_.dtype, warn=True)\n"
     ]
    },
    {
     "name": "stdout",
     "output_type": "stream",
     "text": [
      "Running split 10...\n"
     ]
    },
    {
     "name": "stderr",
     "output_type": "stream",
     "text": [
      "C:\\Users\\nerea\\anaconda3\\envs\\tf-env\\lib\\site-packages\\sklearn\\preprocessing\\_label.py:129: DataConversionWarning: A column-vector y was passed when a 1d array was expected. Please change the shape of y to (n_samples, ), for example using ravel().\n",
      "  y = column_or_1d(y, dtype=self.classes_.dtype, warn=True)\n",
      "C:\\Users\\nerea\\anaconda3\\envs\\tf-env\\lib\\site-packages\\sklearn\\preprocessing\\_label.py:129: DataConversionWarning: A column-vector y was passed when a 1d array was expected. Please change the shape of y to (n_samples, ), for example using ravel().\n",
      "  y = column_or_1d(y, dtype=self.classes_.dtype, warn=True)\n",
      "C:\\Users\\nerea\\anaconda3\\envs\\tf-env\\lib\\site-packages\\sklearn\\preprocessing\\_label.py:129: DataConversionWarning: A column-vector y was passed when a 1d array was expected. Please change the shape of y to (n_samples, ), for example using ravel().\n",
      "  y = column_or_1d(y, dtype=self.classes_.dtype, warn=True)\n",
      "C:\\Users\\nerea\\anaconda3\\envs\\tf-env\\lib\\site-packages\\sklearn\\preprocessing\\_label.py:129: DataConversionWarning: A column-vector y was passed when a 1d array was expected. Please change the shape of y to (n_samples, ), for example using ravel().\n",
      "  y = column_or_1d(y, dtype=self.classes_.dtype, warn=True)\n",
      "C:\\Users\\nerea\\anaconda3\\envs\\tf-env\\lib\\site-packages\\sklearn\\preprocessing\\_label.py:129: DataConversionWarning: A column-vector y was passed when a 1d array was expected. Please change the shape of y to (n_samples, ), for example using ravel().\n",
      "  y = column_or_1d(y, dtype=self.classes_.dtype, warn=True)\n"
     ]
    }
   ],
   "source": [
    "# Run across all saved outer splits\n",
    "all_results = []\n",
    "\n",
    "for split_num, split in enumerate(all_outer_splits, start=1):\n",
    "    print(f\"Running split {split_num}...\")\n",
    "    \n",
    "    def custom_cv(split):\n",
    "        for train_idx, test_idx in split:\n",
    "            yield train_idx, test_idx\n",
    "\n",
    "    df_split = run_nested_cv(X, y, outer_cv=custom_cv(split), split_number=split_num)\n",
    "    all_results.append(df_split)# Combine and save\n",
    "    \n",
    "final_df = pd.concat(all_results, ignore_index=True)"
   ]
  },
  {
   "cell_type": "code",
   "execution_count": 8,
   "id": "1fcebfae-a43f-49a8-b307-0bf455385982",
   "metadata": {},
   "outputs": [],
   "source": [
    "# Add mean row at the end \n",
    "mean_row = final_df.drop(columns=[\"split\", \"fold\", \"model\", \"best_params\"]).mean()\n",
    "mean_row[\"split\"] = \"mean\"\n",
    "mean_row[\"fold\"] = \"mean\"\n",
    "mean_row[\"model\"] = \"NeuralNet\"\n",
    "mean_row[\"best_params\"] = \"N/A\"\n",
    "\n",
    "# Append and save\n",
    "final_df = pd.concat([final_df, pd.DataFrame([mean_row])], ignore_index=True)\n",
    "final_df.to_csv(\"neuralnet_cv_results.csv\", index=False)\n"
   ]
  }
 ],
 "metadata": {
  "kernelspec": {
   "display_name": "Python (tf-env)",
   "language": "python",
   "name": "tf-env"
  },
  "language_info": {
   "codemirror_mode": {
    "name": "ipython",
    "version": 3
   },
   "file_extension": ".py",
   "mimetype": "text/x-python",
   "name": "python",
   "nbconvert_exporter": "python",
   "pygments_lexer": "ipython3",
   "version": "3.9.15"
  }
 },
 "nbformat": 4,
 "nbformat_minor": 5
}
